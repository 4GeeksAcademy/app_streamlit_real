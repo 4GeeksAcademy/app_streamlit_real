{
    "cells": [
        {
            "cell_type": "markdown",
            "metadata": {},
            "source": [
                "# Explore here"
            ]
        },
        {
            "cell_type": "code",
            "execution_count": 2,
            "metadata": {},
            "outputs": [
                {
                    "data": {
                        "text/html": [
                            "<div>\n",
                            "<style scoped>\n",
                            "    .dataframe tbody tr th:only-of-type {\n",
                            "        vertical-align: middle;\n",
                            "    }\n",
                            "\n",
                            "    .dataframe tbody tr th {\n",
                            "        vertical-align: top;\n",
                            "    }\n",
                            "\n",
                            "    .dataframe thead th {\n",
                            "        text-align: right;\n",
                            "    }\n",
                            "</style>\n",
                            "<table border=\"1\" class=\"dataframe\">\n",
                            "  <thead>\n",
                            "    <tr style=\"text-align: right;\">\n",
                            "      <th></th>\n",
                            "      <th>5.1</th>\n",
                            "      <th>3.5</th>\n",
                            "      <th>1.4</th>\n",
                            "      <th>0.2</th>\n",
                            "      <th>Iris-setosa</th>\n",
                            "    </tr>\n",
                            "  </thead>\n",
                            "  <tbody>\n",
                            "    <tr>\n",
                            "      <th>0</th>\n",
                            "      <td>4.9</td>\n",
                            "      <td>3.0</td>\n",
                            "      <td>1.4</td>\n",
                            "      <td>0.2</td>\n",
                            "      <td>Iris-setosa</td>\n",
                            "    </tr>\n",
                            "    <tr>\n",
                            "      <th>1</th>\n",
                            "      <td>4.7</td>\n",
                            "      <td>3.2</td>\n",
                            "      <td>1.3</td>\n",
                            "      <td>0.2</td>\n",
                            "      <td>Iris-setosa</td>\n",
                            "    </tr>\n",
                            "    <tr>\n",
                            "      <th>2</th>\n",
                            "      <td>4.6</td>\n",
                            "      <td>3.1</td>\n",
                            "      <td>1.5</td>\n",
                            "      <td>0.2</td>\n",
                            "      <td>Iris-setosa</td>\n",
                            "    </tr>\n",
                            "    <tr>\n",
                            "      <th>3</th>\n",
                            "      <td>5.0</td>\n",
                            "      <td>3.6</td>\n",
                            "      <td>1.4</td>\n",
                            "      <td>0.2</td>\n",
                            "      <td>Iris-setosa</td>\n",
                            "    </tr>\n",
                            "    <tr>\n",
                            "      <th>4</th>\n",
                            "      <td>5.4</td>\n",
                            "      <td>3.9</td>\n",
                            "      <td>1.7</td>\n",
                            "      <td>0.4</td>\n",
                            "      <td>Iris-setosa</td>\n",
                            "    </tr>\n",
                            "    <tr>\n",
                            "      <th>...</th>\n",
                            "      <td>...</td>\n",
                            "      <td>...</td>\n",
                            "      <td>...</td>\n",
                            "      <td>...</td>\n",
                            "      <td>...</td>\n",
                            "    </tr>\n",
                            "    <tr>\n",
                            "      <th>144</th>\n",
                            "      <td>6.7</td>\n",
                            "      <td>3.0</td>\n",
                            "      <td>5.2</td>\n",
                            "      <td>2.3</td>\n",
                            "      <td>Iris-virginica</td>\n",
                            "    </tr>\n",
                            "    <tr>\n",
                            "      <th>145</th>\n",
                            "      <td>6.3</td>\n",
                            "      <td>2.5</td>\n",
                            "      <td>5.0</td>\n",
                            "      <td>1.9</td>\n",
                            "      <td>Iris-virginica</td>\n",
                            "    </tr>\n",
                            "    <tr>\n",
                            "      <th>146</th>\n",
                            "      <td>6.5</td>\n",
                            "      <td>3.0</td>\n",
                            "      <td>5.2</td>\n",
                            "      <td>2.0</td>\n",
                            "      <td>Iris-virginica</td>\n",
                            "    </tr>\n",
                            "    <tr>\n",
                            "      <th>147</th>\n",
                            "      <td>6.2</td>\n",
                            "      <td>3.4</td>\n",
                            "      <td>5.4</td>\n",
                            "      <td>2.3</td>\n",
                            "      <td>Iris-virginica</td>\n",
                            "    </tr>\n",
                            "    <tr>\n",
                            "      <th>148</th>\n",
                            "      <td>5.9</td>\n",
                            "      <td>3.0</td>\n",
                            "      <td>5.1</td>\n",
                            "      <td>1.8</td>\n",
                            "      <td>Iris-virginica</td>\n",
                            "    </tr>\n",
                            "  </tbody>\n",
                            "</table>\n",
                            "<p>149 rows × 5 columns</p>\n",
                            "</div>"
                        ],
                        "text/plain": [
                            "     5.1  3.5  1.4  0.2     Iris-setosa\n",
                            "0    4.9  3.0  1.4  0.2     Iris-setosa\n",
                            "1    4.7  3.2  1.3  0.2     Iris-setosa\n",
                            "2    4.6  3.1  1.5  0.2     Iris-setosa\n",
                            "3    5.0  3.6  1.4  0.2     Iris-setosa\n",
                            "4    5.4  3.9  1.7  0.4     Iris-setosa\n",
                            "..   ...  ...  ...  ...             ...\n",
                            "144  6.7  3.0  5.2  2.3  Iris-virginica\n",
                            "145  6.3  2.5  5.0  1.9  Iris-virginica\n",
                            "146  6.5  3.0  5.2  2.0  Iris-virginica\n",
                            "147  6.2  3.4  5.4  2.3  Iris-virginica\n",
                            "148  5.9  3.0  5.1  1.8  Iris-virginica\n",
                            "\n",
                            "[149 rows x 5 columns]"
                        ]
                    },
                    "execution_count": 2,
                    "metadata": {},
                    "output_type": "execute_result"
                }
            ],
            "source": [
                "import pandas as pd\n",
                "\n",
                "url = \"https://archive.ics.uci.edu/ml/machine-learning-databases/iris/iris.data\"\n",
                "df = pd.read_csv(url)\n",
                "df"
            ]
        },
        {
            "cell_type": "code",
            "execution_count": 3,
            "metadata": {},
            "outputs": [
                {
                    "data": {
                        "text/plain": [
                            "(149, 5)"
                        ]
                    },
                    "execution_count": 3,
                    "metadata": {},
                    "output_type": "execute_result"
                }
            ],
            "source": [
                "df.shape"
            ]
        },
        {
            "cell_type": "code",
            "execution_count": 4,
            "metadata": {},
            "outputs": [
                {
                    "data": {
                        "text/plain": [
                            "5.1            0\n",
                            "3.5            0\n",
                            "1.4            0\n",
                            "0.2            0\n",
                            "Iris-setosa    0\n",
                            "dtype: int64"
                        ]
                    },
                    "execution_count": 4,
                    "metadata": {},
                    "output_type": "execute_result"
                }
            ],
            "source": [
                "df.isna().sum()"
            ]
        },
        {
            "cell_type": "code",
            "execution_count": 6,
            "metadata": {},
            "outputs": [],
            "source": [
                "import streamlit as st\n",
                "from sklearn import datasets\n",
                "from sklearn.model_selection import train_test_split\n",
                "from sklearn.svm import SVC\n",
                "from sklearn.metrics import classification_report, accuracy_score\n",
                "import joblib\n",
                "\n",
                "# Cargar el dataset de Iris\n",
                "iris = datasets.load_iris()\n",
                "X = iris.data\n",
                "y = iris.target\n",
                "target_names = iris.target_names\n",
                "\n",
                "# Dividir el dataset en entrenamiento y prueba\n",
                "X_train, X_test, y_train, y_test = train_test_split(X, y, test_size=0.2, random_state=42)\n",
                "\n",
                "# Entrenar un modelo SVM\n",
                "model = SVC(kernel='linear', random_state=42)\n",
                "model.fit(X_train, y_train)\n",
                "\n",
                "# Guardar el modelo\n",
                "joblib.dump(model, 'modelo_iris_svm.pkl')\n",
                "\n",
                "# Cargar el modelo guardado\n",
                "model = joblib.load('modelo_iris_svm.pkl')\n",
                "\n",
                "# Hacer predicciones en el conjunto de prueba\n",
                "y_pred = model.predict(X_test)\n",
                "\n",
                "# Calcular el reporte de clasificación\n",
                "report = classification_report(y_test, y_pred, target_names=target_names)\n",
                "\n",
                "# Calcular la precisión\n",
                "accuracy = accuracy_score(y_test, y_pred)\n",
                "\n",
                "# Título de la aplicación\n",
                "st.title(\"Clasificación de Iris\")\n",
                "\n",
                "# Crear entradas en la aplicación para las características\n",
                "sepal_length = st.number_input(\"Longitud del sépalo\", min_value=0.0, value=5.0, step=0.1)\n",
                "sepal_width = st.number_input(\"Ancho del sépalo\", min_value=0.0, value=3.5, step=0.1)\n",
                "petal_length = st.number_input(\"Longitud del pétalo\", min_value=0.0, value=1.5, step=0.1)\n",
                "petal_width = st.number_input(\"Ancho del pétalo\", min_value=0.0, value=0.2, step=0.1)\n",
                "\n",
                "# Botón para predecir la especie de Iris\n",
                "if st.button(\"Predecir\"):\n",
                "    # Realizar la predicción\n",
                "    prediction = model.predict([[sepal_length, sepal_width, petal_length, petal_width]])\n",
                "    predicted_class = target_names[prediction[0]]\n",
                "    \n",
                "    # Mostrar el resultado\n",
                "    st.write(f\"La especie de Iris predicha es: {predicted_class}\")\n",
                "\n",
                "# Mostrar el reporte de clasificación y la precisión\n",
                "st.subheader(\"Reporte de Clasificación\")\n",
                "st.text(report)\n",
                "\n",
                "st.subheader(\"Exactitud del modelo\")\n",
                "st.write(f\"{accuracy * 100:.2f}%\")\n"
            ]
        },
        {
            "cell_type": "code",
            "execution_count": 7,
            "metadata": {},
            "outputs": [
                {
                    "name": "stdout",
                    "output_type": "stream",
                    "text": [
                        "              precision    recall  f1-score   support\n",
                        "\n",
                        "      setosa       1.00      1.00      1.00        10\n",
                        "  versicolor       1.00      1.00      1.00         9\n",
                        "   virginica       1.00      1.00      1.00        11\n",
                        "\n",
                        "    accuracy                           1.00        30\n",
                        "   macro avg       1.00      1.00      1.00        30\n",
                        "weighted avg       1.00      1.00      1.00        30\n",
                        "\n"
                    ]
                }
            ],
            "source": [
                "print(report)"
            ]
        },
        {
            "cell_type": "code",
            "execution_count": null,
            "metadata": {},
            "outputs": [],
            "source": []
        }
    ],
    "metadata": {
        "kernelspec": {
            "display_name": "Python 3.8.13 64-bit ('3.8.13')",
            "language": "python",
            "name": "python3"
        },
        "language_info": {
            "codemirror_mode": {
                "name": "ipython",
                "version": 3
            },
            "file_extension": ".py",
            "mimetype": "text/x-python",
            "name": "python",
            "nbconvert_exporter": "python",
            "pygments_lexer": "ipython3",
            "version": "3.10.12"
        },
        "orig_nbformat": 4,
        "vscode": {
            "interpreter": {
                "hash": "110cc1dee26208153f2972f08a2ad52b6a56238dc66d48e87fb757ef2996db56"
            }
        }
    },
    "nbformat": 4,
    "nbformat_minor": 2
}
